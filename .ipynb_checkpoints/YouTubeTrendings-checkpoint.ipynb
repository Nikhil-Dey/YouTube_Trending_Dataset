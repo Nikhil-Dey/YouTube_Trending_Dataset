{
 "cells": [
  {
   "cell_type": "code",
   "execution_count": 16,
   "id": "17f62f49",
   "metadata": {},
   "outputs": [],
   "source": [
    "import numpy as np\n",
    "import re\n",
    "import pandas as pd\n",
    "import matplotlib.pyplot as plt\n",
    "%matplotlib inline\n",
    "import seaborn as sns\n",
    "from matplotlib import cm\n",
    "from datetime import datetime\n",
    "import glob\n",
    "import os\n",
    "import json\n",
    "import pickle\n",
    "import six"
   ]
  },
  {
   "cell_type": "code",
   "execution_count": 17,
   "id": "413e6d79",
   "metadata": {},
   "outputs": [
    {
     "data": {
      "text/plain": [
       "['RUvideos.csv',\n",
       " 'INvideos.csv',\n",
       " 'DEvideos.csv',\n",
       " 'USvideos.csv',\n",
       " 'GBvideos.csv',\n",
       " 'CAvideos.csv',\n",
       " 'MXvideos.csv',\n",
       " 'JPvideos.csv',\n",
       " 'FRvideos.csv',\n",
       " 'KRvideos.csv']"
      ]
     },
     "execution_count": 17,
     "metadata": {},
     "output_type": "execute_result"
    }
   ],
   "source": [
    "AllCSV = [i for i in glob.glob('*.{}'.format('csv'))]\n",
    "AllCSV"
   ]
  },
  {
   "cell_type": "code",
   "execution_count": null,
   "id": "1a621aa6",
   "metadata": {},
   "outputs": [],
   "source": []
  },
  {
   "cell_type": "code",
   "execution_count": null,
   "id": "a61144d0",
   "metadata": {},
   "outputs": [],
   "source": []
  },
  {
   "cell_type": "raw",
   "id": "d01f18d6",
   "metadata": {},
   "source": [
    "All_dataframes = []\n",
    "\n",
    "for csv in AllCSV:\n",
    "    df = list(pd.read_csv(csv))\n",
    "    All_Dataframes.append(df,index_col = None, header = 0)"
   ]
  },
  {
   "cell_type": "code",
   "execution_count": null,
   "id": "d0b39bbc",
   "metadata": {},
   "outputs": [],
   "source": []
  }
 ],
 "metadata": {
  "kernelspec": {
   "display_name": "Python 3 (ipykernel)",
   "language": "python",
   "name": "python3"
  },
  "language_info": {
   "codemirror_mode": {
    "name": "ipython",
    "version": 3
   },
   "file_extension": ".py",
   "mimetype": "text/x-python",
   "name": "python",
   "nbconvert_exporter": "python",
   "pygments_lexer": "ipython3",
   "version": "3.9.7"
  }
 },
 "nbformat": 4,
 "nbformat_minor": 5
}
